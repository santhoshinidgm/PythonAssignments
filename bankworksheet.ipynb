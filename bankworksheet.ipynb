{
  "nbformat": 4,
  "nbformat_minor": 0,
  "metadata": {
    "colab": {
      "provenance": [],
      "toc_visible": true
    },
    "kernelspec": {
      "name": "python3",
      "display_name": "Python 3"
    },
    "language_info": {
      "name": "python"
    }
  },
  "cells": [
    {
      "cell_type": "code",
      "execution_count": 3,
      "metadata": {
        "colab": {
          "base_uri": "https://localhost:8080/"
        },
        "id": "0EV2aKRYHj1a",
        "outputId": "b8310698-a0f2-4648-e850-522d8e26c11d"
      },
      "outputs": [
        {
          "output_type": "stream",
          "name": "stdout",
          "text": [
            "santhoshini 5000000 12346689\n"
          ]
        }
      ],
      "source": [
        "#bank\n",
        "class bank_account:\n",
        " customer_name = \"\"\n",
        " Account_balance = 0.0\n",
        " account_Number = 0\n",
        "customer1 = bank_account()\n",
        "customer1.customer_name = \"santhoshini\"\n",
        "customer1.Account_balance = 5000000\n",
        "customer1.account_number = 12346689\n",
        "print(customer1.customer_name, customer1.Account_balance, customer1.account_number)"
      ]
    }
  ]
}