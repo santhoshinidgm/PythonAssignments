{
  "cells": [
    {
      "cell_type": "code",
      "execution_count": 7,
      "metadata": {
        "id": "fPJFxSMfU3DB"
      },
      "outputs": [],
      "source": [
        "set1 = {25,78,90,True,2+3j,'note'}"
      ]
    },
    {
      "cell_type": "code",
      "execution_count": 8,
      "metadata": {
        "colab": {
          "base_uri": "https://localhost:8080/"
        },
        "id": "BPEtm_YcVHQ2",
        "outputId": "e8c7eef0-870e-49de-b2cd-4e9c14f48c9c"
      },
      "outputs": [
        {
          "data": {
            "text/plain": [
              "{(2+3j), 25, 78, 90, True, 'note'}"
            ]
          },
          "execution_count": 8,
          "metadata": {},
          "output_type": "execute_result"
        }
      ],
      "source": [
        "set1"
      ]
    }
  ],
  "metadata": {
    "colab": {
      "provenance": [],
      "toc_visible": true
    },
    "kernelspec": {
      "display_name": "Python 3",
      "name": "python3"
    },
    "language_info": {
      "name": "python"
    }
  },
  "nbformat": 4,
  "nbformat_minor": 0
}
