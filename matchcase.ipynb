{
  "nbformat": 4,
  "nbformat_minor": 0,
  "metadata": {
    "colab": {
      "provenance": [],
      "toc_visible": true
    },
    "kernelspec": {
      "name": "python3",
      "display_name": "Python 3"
    },
    "language_info": {
      "name": "python"
    }
  },
  "cells": [
    {
      "cell_type": "code",
      "source": [
        "calculate_grade = int(input(\"enter your numerical grade from 0 t0 100:\"))\n",
        "match calculate_grade:\n",
        " case calculate_grade if 90<= calculate_grade <=100:\n",
        "   print(\"grade: A\")\n",
        " case calculate_grade if 80<= calculate_grade <90:\n",
        "   print(\"grade: B\")\n",
        " case calculate_grade if 70<= calculate_grade <80:\n",
        "   print(\"grade: C\")\n",
        " case calculate_grade  if  60<= calculate_grade <70:\n",
        "   print(\"grade: D\")\n",
        " case calculate_grade if 0<= calculate_grade <60:\n",
        "   print(\"grade: F\")\n",
        " case _:\n",
        "    print(\"enter numerical grade from 0 to 100 only!\")\n",
        "\n",
        "\n",
        "\n",
        "\n",
        "\n"
      ],
      "metadata": {
        "colab": {
          "base_uri": "https://localhost:8080/"
        },
        "id": "jaZcuh4SRwkN",
        "outputId": "85f75935-0568-4b8e-ab95-7d0728129860"
      },
      "execution_count": null,
      "outputs": [
        {
          "output_type": "stream",
          "name": "stdout",
          "text": [
            "enter your numerical grade from 0 t0 100:95\n",
            "grade: A\n"
          ]
        }
      ]
    }
  ]
}