{
  "nbformat": 4,
  "nbformat_minor": 0,
  "metadata": {
    "colab": {
      "provenance": [],
      "toc_visible": true
    },
    "kernelspec": {
      "name": "python3",
      "display_name": "Python 3"
    },
    "language_info": {
      "name": "python"
    }
  },
  "cells": [
    {
      "cell_type": "code",
      "execution_count": 21,
      "metadata": {
        "colab": {
          "base_uri": "https://localhost:8080/"
        },
        "id": "4dVaZE_8AGFk",
        "outputId": "96cf2698-6b5d-42b5-cc50-143374f85d43"
      },
      "outputs": [
        {
          "output_type": "stream",
          "name": "stdout",
          "text": [
            "22\n",
            "6\n",
            "25\n",
            "move forward\n",
            "move forward\n"
          ]
        }
      ],
      "source": [
        "#Car\n",
        "class car:     # car class\n",
        "  No_of_wheels = 4\n",
        "  milage = 22\n",
        "  air_bags = 6\n",
        "  def move_forward(self): # methods\n",
        "    print(\"move forward\")\n",
        "    def move_backward(self):\n",
        "     print(\"move backward\")\n",
        "car1 = car()   # object\n",
        "print(car1.milage)\n",
        "print(car1.air_bags)\n",
        "car2 = car()\n",
        "car2.milage = 25\n",
        "print(car2.milage)\n",
        "car3 = car()\n",
        "car3.move_forward()\n",
        "car2.move_forward()\n"
      ]
    }
  ]
}